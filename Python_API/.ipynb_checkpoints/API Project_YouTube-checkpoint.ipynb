{
 "cells": [
  {
   "cell_type": "code",
   "execution_count": 10,
   "metadata": {},
   "outputs": [],
   "source": [
    "import json\n",
    "import pandas as pd\n",
    "import scipy \n",
    "from config import api_key\n",
    "import time \n",
    "import datetime \n",
    "import requests\n",
    "from googleapiclient.discovery import build\n",
    "import google_auth_oauthlib.flow\n",
    "import googleapiclient.discovery\n",
    "import googleapiclient.errors"
   ]
  },
  {
   "cell_type": "code",
   "execution_count": 11,
   "metadata": {},
   "outputs": [
    {
     "data": {
      "text/plain": [
       "<googleapiclient.discovery.Resource at 0x7f9e20179af0>"
      ]
     },
     "execution_count": 11,
     "metadata": {},
     "output_type": "execute_result"
    }
   ],
   "source": [
    "youtube = build(\"youtube\", \"v3\", developerKey=api_key)\n",
    "youtube"
   ]
  },
  {
   "cell_type": "code",
   "execution_count": 12,
   "metadata": {},
   "outputs": [
    {
     "data": {
      "text/plain": [
       "{'kind': 'youtube#searchListResponse',\n",
       " 'etag': 'sWCvZWkPCyc5l16GHsC-IaHFfPY',\n",
       " 'nextPageToken': 'CAUQAA',\n",
       " 'regionCode': 'US',\n",
       " 'pageInfo': {'totalResults': 1000000, 'resultsPerPage': 5},\n",
       " 'items': [{'kind': 'youtube#searchResult',\n",
       "   'etag': 'ph7MMMla6parzijZ2HORFfgrWmQ',\n",
       "   'id': {'kind': 'youtube#video', 'videoId': '8SEiF96uZC4'},\n",
       "   'snippet': {'publishedAt': '2020-11-04T18:03:52Z',\n",
       "    'channelId': 'UCG0m9a2z1ziRm2YlaFuyU7A',\n",
       "    'title': 'BIGG BOSS TROLL TODAY TRENDING DAY 31 | 4th November 2020 | AARI BALAJI SAMYUKTHA FIGHT',\n",
       "    'description': 'Join Today Trending Squad Membership: https://www.youtube.com/channel/UCG0m9a2z1ziRm2YlaFuyU7A/join ...',\n",
       "    'thumbnails': {'default': {'url': 'https://i.ytimg.com/vi/8SEiF96uZC4/default.jpg',\n",
       "      'width': 120,\n",
       "      'height': 90},\n",
       "     'medium': {'url': 'https://i.ytimg.com/vi/8SEiF96uZC4/mqdefault.jpg',\n",
       "      'width': 320,\n",
       "      'height': 180},\n",
       "     'high': {'url': 'https://i.ytimg.com/vi/8SEiF96uZC4/hqdefault.jpg',\n",
       "      'width': 480,\n",
       "      'height': 360}},\n",
       "    'channelTitle': 'Today Trending',\n",
       "    'liveBroadcastContent': 'none',\n",
       "    'publishTime': '2020-11-04T18:03:52Z'}},\n",
       "  {'kind': 'youtube#searchResult',\n",
       "   'etag': 'iu3rEmAnL2AEk-ELuLR9RC3WU8Y',\n",
       "   'id': {'kind': 'youtube#video', 'videoId': 'c3PIsQ6xpA0'},\n",
       "   'snippet': {'publishedAt': '2020-11-04T06:46:28Z',\n",
       "    'channelId': 'UCQ1SBafxNOjmGOremWf3taA',\n",
       "    'title': 'BREAKING NEWS TRENDING PANUORIN KUNG PAANO WINASAK NG MPAC ANG SPEEDBOAT NG MGA ABUSAYAF',\n",
       "    'description': 'GOODNEWSTRENDING #BREAKINGNEWSTRENDING #southchinase #westphilsea #afp #dnd #latest #news #modernization #goodnews #island #wps ...',\n",
       "    'thumbnails': {'default': {'url': 'https://i.ytimg.com/vi/c3PIsQ6xpA0/default.jpg',\n",
       "      'width': 120,\n",
       "      'height': 90},\n",
       "     'medium': {'url': 'https://i.ytimg.com/vi/c3PIsQ6xpA0/mqdefault.jpg',\n",
       "      'width': 320,\n",
       "      'height': 180},\n",
       "     'high': {'url': 'https://i.ytimg.com/vi/c3PIsQ6xpA0/hqdefault.jpg',\n",
       "      'width': 480,\n",
       "      'height': 360}},\n",
       "    'channelTitle': 'Military News Philippines',\n",
       "    'liveBroadcastContent': 'none',\n",
       "    'publishTime': '2020-11-04T06:46:28Z'}},\n",
       "  {'kind': 'youtube#searchResult',\n",
       "   'etag': '3tdrZnpNpl2opyNRqSedpXVedDw',\n",
       "   'id': {'kind': 'youtube#video', 'videoId': '21zyTF_0Y-U'},\n",
       "   'snippet': {'publishedAt': '2020-11-05T02:03:03Z',\n",
       "    'channelId': 'UCQ1SBafxNOjmGOremWf3taA',\n",
       "    'title': 'GOOD NEWS TRENDING MARITIME PATROL AIR CRAFT MAY BIDDING NA ULIT!  HINDI PA TAPOS ANG LABAN',\n",
       "    'description': 'GOODNEWSTRENDING #BREAKINGNEWSTRENDING Mga sir, pag. Uusapan nga po natin ngayon ang isang project ng ating AFP under po sa AFP ...',\n",
       "    'thumbnails': {'default': {'url': 'https://i.ytimg.com/vi/21zyTF_0Y-U/default.jpg',\n",
       "      'width': 120,\n",
       "      'height': 90},\n",
       "     'medium': {'url': 'https://i.ytimg.com/vi/21zyTF_0Y-U/mqdefault.jpg',\n",
       "      'width': 320,\n",
       "      'height': 180},\n",
       "     'high': {'url': 'https://i.ytimg.com/vi/21zyTF_0Y-U/hqdefault.jpg',\n",
       "      'width': 480,\n",
       "      'height': 360}},\n",
       "    'channelTitle': 'Military News Philippines',\n",
       "    'liveBroadcastContent': 'none',\n",
       "    'publishTime': '2020-11-05T02:03:03Z'}},\n",
       "  {'kind': 'youtube#searchResult',\n",
       "   'etag': '_9EW4qnkFITB_vA2jMv31kRISeo',\n",
       "   'id': {'kind': 'youtube#video', 'videoId': '3RoSoomSg18'},\n",
       "   'snippet': {'publishedAt': '2020-11-01T22:52:19Z',\n",
       "    'channelId': 'UC5eDiyFKURwCFAhOrA4wq-A',\n",
       "    'title': 'Tragična priča Arijaninog ljubavnog života',\n",
       "    'description': 'spolja izgleda kao da Ariani Grande baš sve ide u životu. Prelepa je, bogata, talentovana i ima mnoštvo fanova koji ne mogu da je se zasite, to uključuje i nas.',\n",
       "    'thumbnails': {'default': {'url': 'https://i.ytimg.com/vi/3RoSoomSg18/default.jpg',\n",
       "      'width': 120,\n",
       "      'height': 90},\n",
       "     'medium': {'url': 'https://i.ytimg.com/vi/3RoSoomSg18/mqdefault.jpg',\n",
       "      'width': 320,\n",
       "      'height': 180},\n",
       "     'high': {'url': 'https://i.ytimg.com/vi/3RoSoomSg18/hqdefault.jpg',\n",
       "      'width': 480,\n",
       "      'height': 360}},\n",
       "    'channelTitle': 'TRENDING',\n",
       "    'liveBroadcastContent': 'none',\n",
       "    'publishTime': '2020-11-01T22:52:19Z'}},\n",
       "  {'kind': 'youtube#searchResult',\n",
       "   'etag': 'Xq1FdMhmEXcLa2dHbT6VjnTDEvo',\n",
       "   'id': {'kind': 'youtube#video', 'videoId': '-Hhxn04w9mQ'},\n",
       "   'snippet': {'publishedAt': '2020-11-03T10:02:47Z',\n",
       "    'channelId': 'UCBRVu1z3Yy9VGIx0Bt0_HHw',\n",
       "    'title': 'سر أناقة النجوم على ريد كاربت مهرجان الجونة',\n",
       "    'description': 'سر أناقة النجوم على ريد كاربت مهرجان الجونة #MBCTrending » Subscribe for more: https://bit.ly/2NlImqJ Stay updated! MBC Trending ON SOCIAL: ▻Like MBC ...',\n",
       "    'thumbnails': {'default': {'url': 'https://i.ytimg.com/vi/-Hhxn04w9mQ/default.jpg',\n",
       "      'width': 120,\n",
       "      'height': 90},\n",
       "     'medium': {'url': 'https://i.ytimg.com/vi/-Hhxn04w9mQ/mqdefault.jpg',\n",
       "      'width': 320,\n",
       "      'height': 180},\n",
       "     'high': {'url': 'https://i.ytimg.com/vi/-Hhxn04w9mQ/hqdefault.jpg',\n",
       "      'width': 480,\n",
       "      'height': 360}},\n",
       "    'channelTitle': 'MBCTrending',\n",
       "    'liveBroadcastContent': 'none',\n",
       "    'publishTime': '2020-11-03T10:02:47Z'}}]}"
      ]
     },
     "execution_count": 12,
     "metadata": {},
     "output_type": "execute_result"
    }
   ],
   "source": [
    "trending_video = youtube.search().list(q=\"trending\", part=\"snippet\", type=\"video\", publishedAfter= \"2020-08-12T00:00:00Z\")\n",
    "trending_video.execute()"
   ]
  },
  {
   "cell_type": "code",
   "execution_count": null,
   "metadata": {},
   "outputs": [],
   "source": [
    "data = requests.get(query_url).json()\n",
    "#print(json.dumps(data, indent=4, sort_keys=True))"
   ]
  },
  {
   "cell_type": "code",
   "execution_count": null,
   "metadata": {},
   "outputs": [],
   "source": []
  },
  {
   "cell_type": "code",
   "execution_count": null,
   "metadata": {},
   "outputs": [],
   "source": []
  }
 ],
 "metadata": {
  "kernelspec": {
   "display_name": "Python 3",
   "language": "python",
   "name": "python3"
  },
  "language_info": {
   "codemirror_mode": {
    "name": "ipython",
    "version": 3
   },
   "file_extension": ".py",
   "mimetype": "text/x-python",
   "name": "python",
   "nbconvert_exporter": "python",
   "pygments_lexer": "ipython3",
   "version": "3.8.3"
  }
 },
 "nbformat": 4,
 "nbformat_minor": 4
}
